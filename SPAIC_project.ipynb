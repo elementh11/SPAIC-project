{
 "cells": [
  {
   "cell_type": "code",
   "execution_count": 1,
   "metadata": {},
   "outputs": [],
   "source": [
    "import torch\n",
    "import torch.nn as nn\n",
    "import torch.nn.functional as F\n",
    "import torch.optim as optim\n",
    "from torchvision import datasets, transforms"
   ]
  },
  {
   "cell_type": "code",
   "execution_count": 2,
   "metadata": {},
   "outputs": [
    {
     "name": "stderr",
     "output_type": "stream",
     "text": [
      "WARNING: Logging before flag parsing goes to stderr.\n",
      "W0805 16:39:42.752045 12248 secure_random.py:26] Falling back to insecure randomness since the required custom op could not be found for the installed version of TensorFlow. Fix this by compiling custom ops. Missing file was 'C:\\Users\\apopesc2\\AppData\\Local\\Continuum\\anaconda3\\envs\\pysyft\\lib\\site-packages\\tf_encrypted/operations/secure_random/secure_random_module_tf_1.14.0.so'\n",
      "W0805 16:39:42.795539 12248 deprecation_wrapper.py:119] From C:\\Users\\apopesc2\\AppData\\Local\\Continuum\\anaconda3\\envs\\pysyft\\lib\\site-packages\\tf_encrypted\\session.py:26: The name tf.Session is deprecated. Please use tf.compat.v1.Session instead.\n",
      "\n"
     ]
    }
   ],
   "source": [
    "import syft as sy  \n",
    "hook = sy.TorchHook(torch) \n",
    "client = sy.VirtualWorker(hook, id=\"client\") \n",
    "bob = sy.VirtualWorker(hook, id=\"bob\")\n",
    "alice = sy.VirtualWorker(hook, id=\"alice\")\n",
    "crypto_provider = sy.VirtualWorker(hook, id=\"crypto_provider\")"
   ]
  },
  {
   "cell_type": "code",
   "execution_count": 3,
   "metadata": {},
   "outputs": [],
   "source": [
    "class Arguments():\n",
    "    def __init__(self):\n",
    "        self.batch_size = 64\n",
    "        self.test_batch_size = 200\n",
    "        self.epochs = 10\n",
    "        self.lr = 0.001 # learning rate\n",
    "        self.log_interval = 100\n",
    "\n",
    "args = Arguments()"
   ]
  },
  {
   "cell_type": "code",
   "execution_count": 4,
   "metadata": {},
   "outputs": [
    {
     "name": "stdout",
     "output_type": "stream",
     "text": [
      "Downloading http://yann.lecun.com/exdb/mnist/train-images-idx3-ubyte.gz to ../data\\MNIST\\raw\\train-images-idx3-ubyte.gz\n"
     ]
    },
    {
     "name": "stderr",
     "output_type": "stream",
     "text": [
      "100.1%"
     ]
    },
    {
     "name": "stdout",
     "output_type": "stream",
     "text": [
      "Extracting ../data\\MNIST\\raw\\train-images-idx3-ubyte.gz\n"
     ]
    },
    {
     "name": "stderr",
     "output_type": "stream",
     "text": [
      "113.5%"
     ]
    },
    {
     "name": "stdout",
     "output_type": "stream",
     "text": [
      "Downloading http://yann.lecun.com/exdb/mnist/train-labels-idx1-ubyte.gz to ../data\\MNIST\\raw\\train-labels-idx1-ubyte.gz\n",
      "Extracting ../data\\MNIST\\raw\\train-labels-idx1-ubyte.gz\n",
      "Downloading http://yann.lecun.com/exdb/mnist/t10k-images-idx3-ubyte.gz to ../data\\MNIST\\raw\\t10k-images-idx3-ubyte.gz\n"
     ]
    },
    {
     "name": "stderr",
     "output_type": "stream",
     "text": [
      "180.4%"
     ]
    },
    {
     "name": "stdout",
     "output_type": "stream",
     "text": [
      "Extracting ../data\\MNIST\\raw\\t10k-images-idx3-ubyte.gz\n",
      "Downloading http://yann.lecun.com/exdb/mnist/t10k-labels-idx1-ubyte.gz to ../data\\MNIST\\raw\\t10k-labels-idx1-ubyte.gz\n",
      "Extracting ../data\\MNIST\\raw\\t10k-labels-idx1-ubyte.gz\n",
      "Processing...\n",
      "Done!\n"
     ]
    }
   ],
   "source": [
    "train_loader = torch.utils.data.DataLoader(\n",
    "    datasets.MNIST('../data', train=True, download=True,\n",
    "                   transform=transforms.Compose([\n",
    "                       transforms.ToTensor(),\n",
    "                       transforms.Normalize((0.1307,), (0.3081,))\n",
    "                   ])),\n",
    "    batch_size=args.batch_size, shuffle=True)"
   ]
  },
  {
   "cell_type": "code",
   "execution_count": 5,
   "metadata": {},
   "outputs": [],
   "source": [
    "test_loader = torch.utils.data.DataLoader(\n",
    "    datasets.MNIST('../data', train=False,\n",
    "                   transform=transforms.Compose([\n",
    "                       transforms.ToTensor(),\n",
    "                       transforms.Normalize((0.1307,), (0.3081,))\n",
    "                   ])),\n",
    "    batch_size=args.test_batch_size, shuffle=True)\n",
    "\n",
    "# Convert to integers and privately share the dataset\n",
    "private_test_loader = []\n",
    "for data, target in test_loader:\n",
    "    private_test_loader.append((\n",
    "        data.fix_prec().share(alice, bob, crypto_provider=crypto_provider),\n",
    "        target.fix_prec().share(alice, bob, crypto_provider=crypto_provider)\n",
    "    ))"
   ]
  },
  {
   "cell_type": "code",
   "execution_count": 6,
   "metadata": {},
   "outputs": [],
   "source": [
    "class Net(nn.Module):\n",
    "    def __init__(self):\n",
    "        super(Net, self).__init__()\n",
    "        self.fc1 = nn.Linear(784, 500)\n",
    "        self.fc2 = nn.Linear(500, 10)\n",
    "\n",
    "    def forward(self, x):\n",
    "        x = x.view(-1, 784)\n",
    "        x = self.fc1(x)\n",
    "        x = F.relu(x)\n",
    "        x = self.fc2(x)\n",
    "        return x"
   ]
  },
  {
   "cell_type": "code",
   "execution_count": 7,
   "metadata": {},
   "outputs": [],
   "source": [
    "def train(args, model, train_loader, optimizer, epoch):\n",
    "    model.train()\n",
    "    for batch_idx, (data, target) in enumerate(train_loader):\n",
    "        optimizer.zero_grad()\n",
    "        output = model(data)\n",
    "        output = F.log_softmax(output, dim=1)\n",
    "        loss = F.nll_loss(output, target)\n",
    "        loss.backward()\n",
    "        optimizer.step()\n",
    "        if batch_idx % args.log_interval == 0:\n",
    "            print('Train Epoch: {} [{}/{} ({:.0f}%)]'.format(\n",
    "                epoch, batch_idx * args.batch_size, len(train_loader) * args.batch_size,\n",
    "                100. * batch_idx / len(train_loader)))"
   ]
  },
  {
   "cell_type": "code",
   "execution_count": 8,
   "metadata": {},
   "outputs": [
    {
     "name": "stdout",
     "output_type": "stream",
     "text": [
      "Train Epoch: 1 [0/60032 (0%)]\n",
      "Train Epoch: 1 [6400/60032 (11%)]\n",
      "Train Epoch: 1 [12800/60032 (21%)]\n",
      "Train Epoch: 1 [19200/60032 (32%)]\n",
      "Train Epoch: 1 [25600/60032 (43%)]\n",
      "Train Epoch: 1 [32000/60032 (53%)]\n",
      "Train Epoch: 1 [38400/60032 (64%)]\n",
      "Train Epoch: 1 [44800/60032 (75%)]\n",
      "Train Epoch: 1 [51200/60032 (85%)]\n",
      "Train Epoch: 1 [57600/60032 (96%)]\n",
      "Train Epoch: 2 [0/60032 (0%)]\n",
      "Train Epoch: 2 [6400/60032 (11%)]\n",
      "Train Epoch: 2 [12800/60032 (21%)]\n",
      "Train Epoch: 2 [19200/60032 (32%)]\n",
      "Train Epoch: 2 [25600/60032 (43%)]\n",
      "Train Epoch: 2 [32000/60032 (53%)]\n",
      "Train Epoch: 2 [38400/60032 (64%)]\n",
      "Train Epoch: 2 [44800/60032 (75%)]\n",
      "Train Epoch: 2 [51200/60032 (85%)]\n",
      "Train Epoch: 2 [57600/60032 (96%)]\n",
      "Train Epoch: 3 [0/60032 (0%)]\n",
      "Train Epoch: 3 [6400/60032 (11%)]\n",
      "Train Epoch: 3 [12800/60032 (21%)]\n",
      "Train Epoch: 3 [19200/60032 (32%)]\n",
      "Train Epoch: 3 [25600/60032 (43%)]\n",
      "Train Epoch: 3 [32000/60032 (53%)]\n",
      "Train Epoch: 3 [38400/60032 (64%)]\n",
      "Train Epoch: 3 [44800/60032 (75%)]\n",
      "Train Epoch: 3 [51200/60032 (85%)]\n",
      "Train Epoch: 3 [57600/60032 (96%)]\n",
      "Train Epoch: 4 [0/60032 (0%)]\n",
      "Train Epoch: 4 [6400/60032 (11%)]\n",
      "Train Epoch: 4 [12800/60032 (21%)]\n",
      "Train Epoch: 4 [19200/60032 (32%)]\n",
      "Train Epoch: 4 [25600/60032 (43%)]\n",
      "Train Epoch: 4 [32000/60032 (53%)]\n",
      "Train Epoch: 4 [38400/60032 (64%)]\n",
      "Train Epoch: 4 [44800/60032 (75%)]\n",
      "Train Epoch: 4 [51200/60032 (85%)]\n",
      "Train Epoch: 4 [57600/60032 (96%)]\n",
      "Train Epoch: 5 [0/60032 (0%)]\n",
      "Train Epoch: 5 [6400/60032 (11%)]\n",
      "Train Epoch: 5 [12800/60032 (21%)]\n",
      "Train Epoch: 5 [19200/60032 (32%)]\n",
      "Train Epoch: 5 [25600/60032 (43%)]\n",
      "Train Epoch: 5 [32000/60032 (53%)]\n",
      "Train Epoch: 5 [38400/60032 (64%)]\n",
      "Train Epoch: 5 [44800/60032 (75%)]\n",
      "Train Epoch: 5 [51200/60032 (85%)]\n",
      "Train Epoch: 5 [57600/60032 (96%)]\n",
      "Train Epoch: 6 [0/60032 (0%)]\n",
      "Train Epoch: 6 [6400/60032 (11%)]\n",
      "Train Epoch: 6 [12800/60032 (21%)]\n",
      "Train Epoch: 6 [19200/60032 (32%)]\n",
      "Train Epoch: 6 [25600/60032 (43%)]\n",
      "Train Epoch: 6 [32000/60032 (53%)]\n",
      "Train Epoch: 6 [38400/60032 (64%)]\n",
      "Train Epoch: 6 [44800/60032 (75%)]\n",
      "Train Epoch: 6 [51200/60032 (85%)]\n",
      "Train Epoch: 6 [57600/60032 (96%)]\n",
      "Train Epoch: 7 [0/60032 (0%)]\n",
      "Train Epoch: 7 [6400/60032 (11%)]\n",
      "Train Epoch: 7 [12800/60032 (21%)]\n",
      "Train Epoch: 7 [19200/60032 (32%)]\n",
      "Train Epoch: 7 [25600/60032 (43%)]\n",
      "Train Epoch: 7 [32000/60032 (53%)]\n",
      "Train Epoch: 7 [38400/60032 (64%)]\n",
      "Train Epoch: 7 [44800/60032 (75%)]\n",
      "Train Epoch: 7 [51200/60032 (85%)]\n",
      "Train Epoch: 7 [57600/60032 (96%)]\n",
      "Train Epoch: 8 [0/60032 (0%)]\n",
      "Train Epoch: 8 [6400/60032 (11%)]\n",
      "Train Epoch: 8 [12800/60032 (21%)]\n",
      "Train Epoch: 8 [19200/60032 (32%)]\n",
      "Train Epoch: 8 [25600/60032 (43%)]\n",
      "Train Epoch: 8 [32000/60032 (53%)]\n",
      "Train Epoch: 8 [38400/60032 (64%)]\n",
      "Train Epoch: 8 [44800/60032 (75%)]\n",
      "Train Epoch: 8 [51200/60032 (85%)]\n",
      "Train Epoch: 8 [57600/60032 (96%)]\n",
      "Train Epoch: 9 [0/60032 (0%)]\n",
      "Train Epoch: 9 [6400/60032 (11%)]\n",
      "Train Epoch: 9 [12800/60032 (21%)]\n",
      "Train Epoch: 9 [19200/60032 (32%)]\n",
      "Train Epoch: 9 [25600/60032 (43%)]\n",
      "Train Epoch: 9 [32000/60032 (53%)]\n",
      "Train Epoch: 9 [38400/60032 (64%)]\n",
      "Train Epoch: 9 [44800/60032 (75%)]\n",
      "Train Epoch: 9 [51200/60032 (85%)]\n",
      "Train Epoch: 9 [57600/60032 (96%)]\n",
      "Train Epoch: 10 [0/60032 (0%)]\n",
      "Train Epoch: 10 [6400/60032 (11%)]\n",
      "Train Epoch: 10 [12800/60032 (21%)]\n",
      "Train Epoch: 10 [19200/60032 (32%)]\n",
      "Train Epoch: 10 [25600/60032 (43%)]\n",
      "Train Epoch: 10 [32000/60032 (53%)]\n",
      "Train Epoch: 10 [38400/60032 (64%)]\n",
      "Train Epoch: 10 [44800/60032 (75%)]\n",
      "Train Epoch: 10 [51200/60032 (85%)]\n",
      "Train Epoch: 10 [57600/60032 (96%)]\n"
     ]
    }
   ],
   "source": [
    "model = Net()\n",
    "optimizer = torch.optim.Adam(model.parameters(), lr=args.lr)\n",
    "\n",
    "for epoch in range(1, args.epochs + 1):\n",
    "    train(args, model, train_loader, optimizer, epoch)"
   ]
  },
  {
   "cell_type": "code",
   "execution_count": 9,
   "metadata": {},
   "outputs": [
    {
     "data": {
      "text/plain": [
       "Net(\n",
       "  (fc1): Linear(in_features=784, out_features=500, bias=True)\n",
       "  (fc2): Linear(in_features=500, out_features=10, bias=True)\n",
       ")"
      ]
     },
     "execution_count": 9,
     "metadata": {},
     "output_type": "execute_result"
    }
   ],
   "source": [
    "model.fix_precision().share(alice, bob, crypto_provider=crypto_provider)"
   ]
  },
  {
   "cell_type": "code",
   "execution_count": 10,
   "metadata": {},
   "outputs": [],
   "source": [
    "def test(args, model, test_loader):\n",
    "    model.eval()\n",
    "    n_correct_priv = 0\n",
    "    n_total = 0\n",
    "    with torch.no_grad():\n",
    "        for data, target in test_loader:\n",
    "            output = model(data)\n",
    "            pred = output.argmax(dim=1) \n",
    "            n_correct_priv += pred.eq(target.view_as(pred)).sum()\n",
    "            n_total += args.test_batch_size\n",
    "            \n",
    "            n_correct = n_correct_priv.copy().get().float_precision().long().item()\n",
    "    \n",
    "            print('Test set: Accuracy: {}/{} ({:.0f}%)'.format(\n",
    "                n_correct, n_total,\n",
    "                100. * n_correct / n_total))"
   ]
  },
  {
   "cell_type": "code",
   "execution_count": 11,
   "metadata": {},
   "outputs": [
    {
     "name": "stdout",
     "output_type": "stream",
     "text": [
      "Test set: Accuracy: 195/200 (98%)\n",
      "Test set: Accuracy: 393/400 (98%)\n",
      "Test set: Accuracy: 589/600 (98%)\n",
      "Test set: Accuracy: 788/800 (98%)\n",
      "Test set: Accuracy: 982/1000 (98%)\n",
      "Test set: Accuracy: 1179/1200 (98%)\n",
      "Test set: Accuracy: 1378/1400 (98%)\n",
      "Test set: Accuracy: 1574/1600 (98%)\n",
      "Test set: Accuracy: 1773/1800 (98%)\n",
      "Test set: Accuracy: 1969/2000 (98%)\n",
      "Test set: Accuracy: 2166/2200 (98%)\n",
      "Test set: Accuracy: 2362/2400 (98%)\n",
      "Test set: Accuracy: 2559/2600 (98%)\n",
      "Test set: Accuracy: 2757/2800 (98%)\n",
      "Test set: Accuracy: 2951/3000 (98%)\n",
      "Test set: Accuracy: 3146/3200 (98%)\n",
      "Test set: Accuracy: 3344/3400 (98%)\n",
      "Test set: Accuracy: 3536/3600 (98%)\n",
      "Test set: Accuracy: 3734/3800 (98%)\n",
      "Test set: Accuracy: 3929/4000 (98%)\n",
      "Test set: Accuracy: 4125/4200 (98%)\n",
      "Test set: Accuracy: 4321/4400 (98%)\n",
      "Test set: Accuracy: 4516/4600 (98%)\n",
      "Test set: Accuracy: 4712/4800 (98%)\n",
      "Test set: Accuracy: 4906/5000 (98%)\n",
      "Test set: Accuracy: 5104/5200 (98%)\n",
      "Test set: Accuracy: 5298/5400 (98%)\n",
      "Test set: Accuracy: 5494/5600 (98%)\n",
      "Test set: Accuracy: 5692/5800 (98%)\n",
      "Test set: Accuracy: 5886/6000 (98%)\n",
      "Test set: Accuracy: 6081/6200 (98%)\n",
      "Test set: Accuracy: 6277/6400 (98%)\n",
      "Test set: Accuracy: 6474/6600 (98%)\n",
      "Test set: Accuracy: 6667/6800 (98%)\n",
      "Test set: Accuracy: 6863/7000 (98%)\n",
      "Test set: Accuracy: 7059/7200 (98%)\n",
      "Test set: Accuracy: 7256/7400 (98%)\n",
      "Test set: Accuracy: 7452/7600 (98%)\n",
      "Test set: Accuracy: 7645/7800 (98%)\n",
      "Test set: Accuracy: 7841/8000 (98%)\n",
      "Test set: Accuracy: 8038/8200 (98%)\n",
      "Test set: Accuracy: 8232/8400 (98%)\n",
      "Test set: Accuracy: 8426/8600 (98%)\n",
      "Test set: Accuracy: 8621/8800 (98%)\n",
      "Test set: Accuracy: 8815/9000 (98%)\n",
      "Test set: Accuracy: 9011/9200 (98%)\n",
      "Test set: Accuracy: 9207/9400 (98%)\n",
      "Test set: Accuracy: 9405/9600 (98%)\n",
      "Test set: Accuracy: 9601/9800 (98%)\n",
      "Test set: Accuracy: 9795/10000 (98%)\n"
     ]
    }
   ],
   "source": [
    "test(args, model, private_test_loader)"
   ]
  },
  {
   "cell_type": "code",
   "execution_count": null,
   "metadata": {},
   "outputs": [],
   "source": []
  }
 ],
 "metadata": {
  "kernelspec": {
   "display_name": "Python 3",
   "language": "python",
   "name": "python3"
  },
  "language_info": {
   "codemirror_mode": {
    "name": "ipython",
    "version": 3
   },
   "file_extension": ".py",
   "mimetype": "text/x-python",
   "name": "python",
   "nbconvert_exporter": "python",
   "pygments_lexer": "ipython3",
   "version": "3.7.3"
  }
 },
 "nbformat": 4,
 "nbformat_minor": 2
}
